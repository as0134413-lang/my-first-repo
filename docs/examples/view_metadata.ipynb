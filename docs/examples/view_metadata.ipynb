{
  "cells": [
    {
      "cell_type": "markdown",
      "metadata": {
        "id": "view-in-github",
        "colab_type": "text"
      },
      "source": [
        "<a href=\"https://colab.research.google.com/github/Kirraann/Hello-World/blob/master/docs/examples/view_metadata.ipynb\" target=\"_parent\"><img src=\"https://colab.research.google.com/assets/colab-badge.svg\" alt=\"Open In Colab\"/></a>"
      ]
    },
    {
      "cell_type": "markdown",
      "metadata": {
        "id": "2npzvoHTmJRW"
      },
      "source": [
        "# View Metadata\n",
        "\n",
        "[![image](https://colab.research.google.com/assets/colab-badge.svg)](https://colab.research.google.com/github/opengeos/geoai/blob/main/docs/examples/view_metadata.ipynb)\n",
        "\n",
        "Install Package\n",
        "\n",
        "To use the `geoai-py` package, ensure it is installed in your environment. Uncomment the command below if needed."
      ]
    },
    {
      "cell_type": "code",
      "execution_count": 1,
      "metadata": {
        "id": "ZBKJ8YdamJRX"
      },
      "outputs": [],
      "source": [
        "# %pip install geoai-py"
      ]
    },
    {
      "cell_type": "markdown",
      "metadata": {
        "id": "fCDbSTUBmJRX"
      },
      "source": [
        "Import the package"
      ]
    },
    {
      "cell_type": "code",
      "execution_count": null,
      "metadata": {
        "id": "Bj6_EW6MmJRY"
      },
      "outputs": [],
      "source": [
        "import geoai"
      ]
    },
    {
      "cell_type": "markdown",
      "metadata": {
        "id": "u1cMGuWMmJRY"
      },
      "source": [
        "Define URLs for sample datasets: a NAIP imagery raster file and a building footprints vector file"
      ]
    },
    {
      "cell_type": "code",
      "execution_count": null,
      "metadata": {
        "id": "DbZXpp01mJRY"
      },
      "outputs": [],
      "source": [
        "raster_url = (\n",
        "    \"https://huggingface.co/datasets/giswqs/geospatial/resolve/main/naip_train.tif\"\n",
        ")\n",
        "vector_url = \"https://huggingface.co/datasets/giswqs/geospatial/resolve/main/naip_train_buildings.geojson\""
      ]
    },
    {
      "cell_type": "markdown",
      "metadata": {
        "id": "EqF2dNvQmJRY"
      },
      "source": [
        "Download the raster file (NAIP imagery) and save it locally"
      ]
    },
    {
      "cell_type": "code",
      "execution_count": null,
      "metadata": {
        "id": "u3fn95KRmJRZ"
      },
      "outputs": [],
      "source": [
        "raster_path = geoai.download_file(raster_url)"
      ]
    },
    {
      "cell_type": "markdown",
      "metadata": {
        "id": "AaRSuS_2mJRZ"
      },
      "source": [
        "Download the vector file (building footprints) and save it locally"
      ]
    },
    {
      "cell_type": "code",
      "execution_count": null,
      "metadata": {
        "id": "2FokpkavmJRZ"
      },
      "outputs": [],
      "source": [
        "vector_path = geoai.download_file(vector_url)"
      ]
    },
    {
      "cell_type": "markdown",
      "metadata": {
        "id": "_5oYkCFMmJRZ"
      },
      "source": [
        "Display metadata about the raster file, including dimensions, resolution, projection, and bands"
      ]
    },
    {
      "cell_type": "code",
      "execution_count": null,
      "metadata": {
        "id": "G8DXGGHbmJRZ"
      },
      "outputs": [],
      "source": [
        "geoai.get_raster_info(raster_path)[\"band_stats\"]"
      ]
    },
    {
      "cell_type": "code",
      "execution_count": null,
      "metadata": {
        "id": "x02IU4JnmJRa"
      },
      "outputs": [],
      "source": [
        "geoai.print_raster_info(raster_path, figsize=(18, 10))"
      ]
    },
    {
      "cell_type": "markdown",
      "metadata": {
        "id": "YXjRoeeFmJRa"
      },
      "source": [
        "Display metadata about the vector file, including geometry type, feature count, extent, and attributes"
      ]
    },
    {
      "cell_type": "code",
      "execution_count": null,
      "metadata": {
        "id": "6WwwGqhemJRa"
      },
      "outputs": [],
      "source": [
        "geoai.print_vector_info(vector_path, figsize=(18, 10))"
      ]
    },
    {
      "cell_type": "markdown",
      "metadata": {
        "id": "TDPDX5aomJRa"
      },
      "source": [
        "Analyze the \"height\" attribute of buildings to obtain statistical information"
      ]
    },
    {
      "cell_type": "code",
      "execution_count": null,
      "metadata": {
        "id": "HuVdWdiFmJRa"
      },
      "outputs": [],
      "source": [
        "geoai.analyze_vector_attributes(vector_path, \"height\")"
      ]
    },
    {
      "cell_type": "markdown",
      "metadata": {
        "id": "vF_-quy1mJRa"
      },
      "source": [
        "Create a visualization of building footprints colored by their height values"
      ]
    },
    {
      "cell_type": "code",
      "execution_count": null,
      "metadata": {
        "id": "RbEfLI1dmJRa"
      },
      "outputs": [],
      "source": [
        "geoai.visualize_vector_by_attribute(vector_path, \"height\")"
      ]
    },
    {
      "cell_type": "markdown",
      "metadata": {
        "id": "86qVKaL5mJRa"
      },
      "source": [
        "Clip the raster file to a specified extent"
      ]
    },
    {
      "cell_type": "code",
      "execution_count": null,
      "metadata": {
        "id": "rJEvXV-lmJRa"
      },
      "outputs": [],
      "source": [
        "clip_raster_path = \"naip_clip.tif\"\n",
        "geoai.clip_raster_by_bbox(\n",
        "    raster_path,\n",
        "    clip_raster_path,\n",
        "    bbox=(0, 0, 500, 500),\n",
        "    bands=[1, 2, 3],\n",
        "    bbox_type=\"pixel\",\n",
        ")"
      ]
    },
    {
      "cell_type": "code",
      "execution_count": null,
      "metadata": {
        "id": "zp4B8VtymJRa"
      },
      "outputs": [],
      "source": [
        "geoai.view_image(clip_raster_path)"
      ]
    }
  ],
  "metadata": {
    "kernelspec": {
      "display_name": "geo",
      "language": "python",
      "name": "python3"
    },
    "language_info": {
      "codemirror_mode": {
        "name": "ipython",
        "version": 3
      },
      "file_extension": ".py",
      "mimetype": "text/x-python",
      "name": "python",
      "nbconvert_exporter": "python",
      "pygments_lexer": "ipython3",
      "version": "3.12.2"
    },
    "colab": {
      "provenance": [],
      "include_colab_link": true
    }
  },
  "nbformat": 4,
  "nbformat_minor": 0
}